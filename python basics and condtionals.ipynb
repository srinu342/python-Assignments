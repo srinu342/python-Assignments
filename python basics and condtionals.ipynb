{
 "cells": [
  {
   "cell_type": "markdown",
   "id": "0914ef5d",
   "metadata": {},
   "source": [
    "# Basics\n"
   ]
  },
  {
   "cell_type": "code",
   "execution_count": 1,
   "id": "43083d7d",
   "metadata": {},
   "outputs": [
    {
     "name": "stdout",
     "output_type": "stream",
     "text": [
      "hello srinu\n"
     ]
    }
   ],
   "source": [
    "print(\"hello srinu\")\n"
   ]
  },
  {
   "cell_type": "code",
   "execution_count": 2,
   "id": "2dc4271f",
   "metadata": {},
   "outputs": [
    {
     "name": "stdout",
     "output_type": "stream",
     "text": [
      "this is not my first programme\n"
     ]
    }
   ],
   "source": [
    "print(\"this is not my first programme\")"
   ]
  },
  {
   "cell_type": "code",
   "execution_count": 3,
   "id": "9117eb65",
   "metadata": {},
   "outputs": [
    {
     "name": "stdout",
     "output_type": "stream",
     "text": [
      "this\n"
     ]
    }
   ],
   "source": [
    "\n",
    "# shift+ tab to see what actually syntax is\n",
    "print(\"this\")"
   ]
  },
  {
   "cell_type": "code",
   "execution_count": 5,
   "id": "a9bd82ab",
   "metadata": {},
   "outputs": [
    {
     "ename": "SyntaxError",
     "evalue": "Missing parentheses in call to 'print'. Did you mean print(\"this is statement is valid?\")? (Temp/ipykernel_6916/943520031.py, line 2)",
     "output_type": "error",
     "traceback": [
      "\u001b[1;36m  File \u001b[1;32m\"C:\\Users\\srinu\\AppData\\Local\\Temp/ipykernel_6916/943520031.py\"\u001b[1;36m, line \u001b[1;32m2\u001b[0m\n\u001b[1;33m    print  \"this is statement is valid?\"\u001b[0m\n\u001b[1;37m           ^\u001b[0m\n\u001b[1;31mSyntaxError\u001b[0m\u001b[1;31m:\u001b[0m Missing parentheses in call to 'print'. Did you mean print(\"this is statement is valid?\")?\n"
     ]
    }
   ],
   "source": [
    "# This is valid in python 2\n",
    "print  \"this is statement is valid?\""
   ]
  },
  {
   "cell_type": "code",
   "execution_count": 7,
   "id": "e5a5df56",
   "metadata": {},
   "outputs": [
    {
     "data": {
      "text/plain": [
       "'\\nmy name is srinu \\ni am \\nfrom \\nhyderanad\\n'"
      ]
     },
     "execution_count": 7,
     "metadata": {},
     "output_type": "execute_result"
    }
   ],
   "source": [
    "# if you want multiple line comment so you have to use triple code\n",
    "\"\"\"\n",
    "my name is srinu \n",
    "i am \n",
    "from \n",
    "hyderanad\n",
    "\"\"\""
   ]
  },
  {
   "cell_type": "markdown",
   "id": "ded23a5d",
   "metadata": {},
   "source": [
    "# variable\n",
    "\n"
   ]
  },
  {
   "cell_type": "code",
   "execution_count": 8,
   "id": "6b55b8b6",
   "metadata": {},
   "outputs": [
    {
     "data": {
      "text/plain": [
       "12"
      ]
     },
     "execution_count": 8,
     "metadata": {},
     "output_type": "execute_result"
    }
   ],
   "source": [
    "a=12\n",
    "a"
   ]
  },
  {
   "cell_type": "code",
   "execution_count": 9,
   "id": "897dcff4",
   "metadata": {},
   "outputs": [],
   "source": [
    "a=12"
   ]
  },
  {
   "cell_type": "code",
   "execution_count": 10,
   "id": "993efaed",
   "metadata": {},
   "outputs": [
    {
     "data": {
      "text/plain": [
       "12"
      ]
     },
     "execution_count": 10,
     "metadata": {},
     "output_type": "execute_result"
    }
   ],
   "source": [
    "a"
   ]
  },
  {
   "cell_type": "code",
   "execution_count": 11,
   "id": "bc3eb0eb",
   "metadata": {},
   "outputs": [
    {
     "data": {
      "text/plain": [
       "int"
      ]
     },
     "execution_count": 11,
     "metadata": {},
     "output_type": "execute_result"
    }
   ],
   "source": [
    "a=10\n",
    "type(a)"
   ]
  },
  {
   "cell_type": "code",
   "execution_count": 12,
   "id": "dc82f846",
   "metadata": {},
   "outputs": [
    {
     "data": {
      "text/plain": [
       "str"
      ]
     },
     "execution_count": 12,
     "metadata": {},
     "output_type": "execute_result"
    }
   ],
   "source": [
    "b=\"srinu\"\n",
    "type(b)"
   ]
  },
  {
   "cell_type": "code",
   "execution_count": 13,
   "id": "5652dc99",
   "metadata": {},
   "outputs": [
    {
     "data": {
      "text/plain": [
       "'srinu'"
      ]
     },
     "execution_count": 13,
     "metadata": {},
     "output_type": "execute_result"
    }
   ],
   "source": [
    "#sring variables\n",
    "b=\"srinu\"\n",
    "b"
   ]
  },
  {
   "cell_type": "code",
   "execution_count": 14,
   "id": "c34b4ced",
   "metadata": {},
   "outputs": [
    {
     "name": "stdout",
     "output_type": "stream",
     "text": [
      "10 srinu\n"
     ]
    }
   ],
   "source": [
    "# above here if we execute any string the output\n",
    "#is on single quote with string\n",
    "print(a,b)\n"
   ]
  },
  {
   "cell_type": "code",
   "execution_count": 15,
   "id": "bf371e4c",
   "metadata": {},
   "outputs": [],
   "source": [
    "a=45\n",
    "b='srinu'\n"
   ]
  },
  {
   "cell_type": "code",
   "execution_count": 18,
   "id": "27376a24",
   "metadata": {},
   "outputs": [],
   "source": [
    "a,b,s =45,'srinu',\"this is my name\"\n"
   ]
  },
  {
   "cell_type": "code",
   "execution_count": 19,
   "id": "c52ee28e",
   "metadata": {},
   "outputs": [
    {
     "data": {
      "text/plain": [
       "'this is my name'"
      ]
     },
     "execution_count": 19,
     "metadata": {},
     "output_type": "execute_result"
    }
   ],
   "source": [
    "s"
   ]
  },
  {
   "cell_type": "code",
   "execution_count": 20,
   "id": "d6e83e34",
   "metadata": {},
   "outputs": [
    {
     "data": {
      "text/plain": [
       "str"
      ]
     },
     "execution_count": 20,
     "metadata": {},
     "output_type": "execute_result"
    }
   ],
   "source": [
    "type(s)\n"
   ]
  },
  {
   "cell_type": "code",
   "execution_count": 23,
   "id": "2aa1dbf6",
   "metadata": {},
   "outputs": [],
   "source": [
    "# whenever you strart a variable then you are not supposed to strart with number\n",
    "# we can strart with underscore if we want\n",
    "# we can't supposed to use syntax\n",
    "\n"
   ]
  },
  {
   "cell_type": "code",
   "execution_count": 25,
   "id": "e3b73bef",
   "metadata": {},
   "outputs": [],
   "source": [
    "name= 'srinu'\n",
    "userid=\"511018054\"\n",
    "password=\"hbdjbfadhbfj\"\n",
    "mail=\"srinukatravathy06\""
   ]
  },
  {
   "cell_type": "code",
   "execution_count": 26,
   "id": "245b088e",
   "metadata": {},
   "outputs": [],
   "source": [
    "a=5.6"
   ]
  },
  {
   "cell_type": "code",
   "execution_count": 27,
   "id": "1c2b2c76",
   "metadata": {},
   "outputs": [
    {
     "data": {
      "text/plain": [
       "float"
      ]
     },
     "execution_count": 27,
     "metadata": {},
     "output_type": "execute_result"
    }
   ],
   "source": [
    "type(a)"
   ]
  },
  {
   "cell_type": "markdown",
   "id": "9b3d918a",
   "metadata": {},
   "source": [
    "# Boolean "
   ]
  },
  {
   "cell_type": "code",
   "execution_count": 28,
   "id": "51aa0ae2",
   "metadata": {},
   "outputs": [
    {
     "ename": "NameError",
     "evalue": "name 'true' is not defined",
     "output_type": "error",
     "traceback": [
      "\u001b[1;31m---------------------------------------------------------------------------\u001b[0m",
      "\u001b[1;31mNameError\u001b[0m                                 Traceback (most recent call last)",
      "\u001b[1;32m~\\AppData\\Local\\Temp/ipykernel_6916/4107665438.py\u001b[0m in \u001b[0;36m<module>\u001b[1;34m\u001b[0m\n\u001b[1;32m----> 1\u001b[1;33m \u001b[0mb\u001b[0m\u001b[1;33m=\u001b[0m\u001b[0mtrue\u001b[0m\u001b[1;33m\u001b[0m\u001b[1;33m\u001b[0m\u001b[0m\n\u001b[0m\u001b[0;32m      2\u001b[0m \u001b[0mc\u001b[0m\u001b[1;33m=\u001b[0m\u001b[0mfalse\u001b[0m\u001b[1;33m\u001b[0m\u001b[1;33m\u001b[0m\u001b[0m\n\u001b[0;32m      3\u001b[0m \u001b[0mtype\u001b[0m\u001b[1;33m(\u001b[0m\u001b[0mb\u001b[0m\u001b[1;33m)\u001b[0m\u001b[1;33m\u001b[0m\u001b[1;33m\u001b[0m\u001b[0m\n",
      "\u001b[1;31mNameError\u001b[0m: name 'true' is not defined"
     ]
    }
   ],
   "source": [
    "b=true\n",
    "c=false\n",
    "type(b)"
   ]
  },
  {
   "cell_type": "code",
   "execution_count": 29,
   "id": "4022fe8c",
   "metadata": {},
   "outputs": [],
   "source": [
    "# true is not defined because of first letter is always capital letter in boolean equation\n"
   ]
  },
  {
   "cell_type": "code",
   "execution_count": 30,
   "id": "513b7c41",
   "metadata": {},
   "outputs": [
    {
     "data": {
      "text/plain": [
       "bool"
      ]
     },
     "execution_count": 30,
     "metadata": {},
     "output_type": "execute_result"
    }
   ],
   "source": [
    "b=True\n",
    "c=False\n",
    "type(b)"
   ]
  },
  {
   "cell_type": "code",
   "execution_count": 31,
   "id": "549cda44",
   "metadata": {},
   "outputs": [],
   "source": [
    "#here bool means boolean\n"
   ]
  },
  {
   "cell_type": "code",
   "execution_count": 33,
   "id": "77d5fdcb",
   "metadata": {},
   "outputs": [
    {
     "name": "stdout",
     "output_type": "stream",
     "text": [
      "4\n"
     ]
    }
   ],
   "source": [
    "True+True+True+False+True\n",
    "print(True+True+True+False+True)"
   ]
  },
  {
   "cell_type": "code",
   "execution_count": 34,
   "id": "ad2ad07c",
   "metadata": {},
   "outputs": [
    {
     "name": "stdout",
     "output_type": "stream",
     "text": [
      "0\n"
     ]
    }
   ],
   "source": [
    "print(False-True+True)"
   ]
  },
  {
   "cell_type": "code",
   "execution_count": 35,
   "id": "91f80ae7",
   "metadata": {},
   "outputs": [],
   "source": [
    "# above is simple( value of true =1, value of false is =0)"
   ]
  },
  {
   "cell_type": "code",
   "execution_count": 36,
   "id": "f5002a14",
   "metadata": {},
   "outputs": [
    {
     "ename": "ZeroDivisionError",
     "evalue": "division by zero",
     "output_type": "error",
     "traceback": [
      "\u001b[1;31m---------------------------------------------------------------------------\u001b[0m",
      "\u001b[1;31mZeroDivisionError\u001b[0m                         Traceback (most recent call last)",
      "\u001b[1;32m~\\AppData\\Local\\Temp/ipykernel_6916/2794436645.py\u001b[0m in \u001b[0;36m<module>\u001b[1;34m\u001b[0m\n\u001b[1;32m----> 1\u001b[1;33m \u001b[1;32mTrue\u001b[0m\u001b[1;33m/\u001b[0m\u001b[1;32mFalse\u001b[0m\u001b[1;33m\u001b[0m\u001b[1;33m\u001b[0m\u001b[0m\n\u001b[0m",
      "\u001b[1;31mZeroDivisionError\u001b[0m: division by zero"
     ]
    }
   ],
   "source": [
    "True/False"
   ]
  },
  {
   "cell_type": "code",
   "execution_count": 37,
   "id": "1004cc2e",
   "metadata": {},
   "outputs": [
    {
     "data": {
      "text/plain": [
       "0.0"
      ]
     },
     "execution_count": 37,
     "metadata": {},
     "output_type": "execute_result"
    }
   ],
   "source": [
    "False/True"
   ]
  },
  {
   "cell_type": "code",
   "execution_count": 38,
   "id": "125ef73c",
   "metadata": {},
   "outputs": [],
   "source": [
    "# if we execute above code in numpy  it shows inf"
   ]
  },
  {
   "cell_type": "code",
   "execution_count": 39,
   "id": "0d3974fd",
   "metadata": {},
   "outputs": [
    {
     "data": {
      "text/plain": [
       "complex"
      ]
     },
     "execution_count": 39,
     "metadata": {},
     "output_type": "execute_result"
    }
   ],
   "source": [
    "n=45+6j\n",
    "type(n)"
   ]
  },
  {
   "cell_type": "code",
   "execution_count": 40,
   "id": "417a5ecd",
   "metadata": {},
   "outputs": [],
   "source": [
    "# here 45 represents real and 6 is representing imaginary part\n",
    "#j is a notation"
   ]
  },
  {
   "cell_type": "code",
   "execution_count": 41,
   "id": "15fd5a4d",
   "metadata": {},
   "outputs": [
    {
     "data": {
      "text/plain": [
       "45.0"
      ]
     },
     "execution_count": 41,
     "metadata": {},
     "output_type": "execute_result"
    }
   ],
   "source": [
    "n.real"
   ]
  },
  {
   "cell_type": "code",
   "execution_count": 42,
   "id": "2e85b03c",
   "metadata": {},
   "outputs": [
    {
     "data": {
      "text/plain": [
       "6.0"
      ]
     },
     "execution_count": 42,
     "metadata": {},
     "output_type": "execute_result"
    }
   ],
   "source": [
    "n.imag"
   ]
  },
  {
   "cell_type": "code",
   "execution_count": 43,
   "id": "811bfed0",
   "metadata": {},
   "outputs": [
    {
     "ename": "TypeError",
     "evalue": "'float' object is not callable",
     "output_type": "error",
     "traceback": [
      "\u001b[1;31m---------------------------------------------------------------------------\u001b[0m",
      "\u001b[1;31mTypeError\u001b[0m                                 Traceback (most recent call last)",
      "\u001b[1;32m~\\AppData\\Local\\Temp/ipykernel_6916/3966975479.py\u001b[0m in \u001b[0;36m<module>\u001b[1;34m\u001b[0m\n\u001b[1;32m----> 1\u001b[1;33m \u001b[0mn\u001b[0m\u001b[1;33m.\u001b[0m\u001b[0mreal\u001b[0m\u001b[1;33m(\u001b[0m\u001b[1;33m)\u001b[0m\u001b[1;33m\u001b[0m\u001b[1;33m\u001b[0m\u001b[0m\n\u001b[0m",
      "\u001b[1;31mTypeError\u001b[0m: 'float' object is not callable"
     ]
    }
   ],
   "source": [
    "n.real()"
   ]
  },
  {
   "cell_type": "code",
   "execution_count": 44,
   "id": "c2df5801",
   "metadata": {},
   "outputs": [],
   "source": [
    "# we cant use parenthesis here"
   ]
  },
  {
   "cell_type": "code",
   "execution_count": 45,
   "id": "dd83c862",
   "metadata": {},
   "outputs": [],
   "source": [
    "#python is a dynamic language"
   ]
  },
  {
   "cell_type": "code",
   "execution_count": 46,
   "id": "b67bf7f9",
   "metadata": {},
   "outputs": [
    {
     "ename": "TypeError",
     "evalue": "unsupported operand type(s) for +: 'int' and 'str'",
     "output_type": "error",
     "traceback": [
      "\u001b[1;31m---------------------------------------------------------------------------\u001b[0m",
      "\u001b[1;31mTypeError\u001b[0m                                 Traceback (most recent call last)",
      "\u001b[1;32m~\\AppData\\Local\\Temp/ipykernel_6916/315869827.py\u001b[0m in \u001b[0;36m<module>\u001b[1;34m\u001b[0m\n\u001b[1;32m----> 1\u001b[1;33m \u001b[1;36m1\u001b[0m\u001b[1;33m+\u001b[0m\u001b[1;34m\"sudh\"\u001b[0m\u001b[1;33m\u001b[0m\u001b[1;33m\u001b[0m\u001b[0m\n\u001b[0m",
      "\u001b[1;31mTypeError\u001b[0m: unsupported operand type(s) for +: 'int' and 'str'"
     ]
    }
   ],
   "source": [
    "1+\"sudh\""
   ]
  },
  {
   "cell_type": "code",
   "execution_count": 47,
   "id": "43b8c459",
   "metadata": {},
   "outputs": [],
   "source": [
    "# in python if you execute heterogenious data type the function give an error"
   ]
  },
  {
   "cell_type": "code",
   "execution_count": 48,
   "id": "f0d4bd75",
   "metadata": {},
   "outputs": [
    {
     "data": {
      "text/plain": [
       "'1srinu'"
      ]
     },
     "execution_count": 48,
     "metadata": {},
     "output_type": "execute_result"
    }
   ],
   "source": [
    "str(1)+\"srinu\""
   ]
  },
  {
   "cell_type": "code",
   "execution_count": 49,
   "id": "63fd6522",
   "metadata": {},
   "outputs": [
    {
     "data": {
      "text/plain": [
       "'srinysrint'"
      ]
     },
     "execution_count": 49,
     "metadata": {},
     "output_type": "execute_result"
    }
   ],
   "source": [
    "# cocatination\n",
    "\"sriny\"+\"srint\""
   ]
  },
  {
   "cell_type": "code",
   "execution_count": 51,
   "id": "ce13e7db",
   "metadata": {},
   "outputs": [
    {
     "ename": "TypeError",
     "evalue": "unsupported operand type(s) for -: 'str' and 'str'",
     "output_type": "error",
     "traceback": [
      "\u001b[1;31m---------------------------------------------------------------------------\u001b[0m",
      "\u001b[1;31mTypeError\u001b[0m                                 Traceback (most recent call last)",
      "\u001b[1;32m~\\AppData\\Local\\Temp/ipykernel_6916/411282619.py\u001b[0m in \u001b[0;36m<module>\u001b[1;34m\u001b[0m\n\u001b[1;32m----> 1\u001b[1;33m \u001b[1;34m\"srinu\"\u001b[0m\u001b[1;33m-\u001b[0m\u001b[1;34m\"srinu\"\u001b[0m\u001b[1;33m\u001b[0m\u001b[1;33m\u001b[0m\u001b[0m\n\u001b[0m",
      "\u001b[1;31mTypeError\u001b[0m: unsupported operand type(s) for -: 'str' and 'str'"
     ]
    }
   ],
   "source": [
    "\"srinu\"-\"srinu\""
   ]
  },
  {
   "cell_type": "code",
   "execution_count": 52,
   "id": "0a0095b3",
   "metadata": {},
   "outputs": [
    {
     "name": "stdout",
     "output_type": "stream",
     "text": [
      "iuhiuhdfubfubu\n"
     ]
    }
   ],
   "source": [
    "a=10\n",
    "a=input()\n"
   ]
  },
  {
   "cell_type": "code",
   "execution_count": 53,
   "id": "5d2368f6",
   "metadata": {},
   "outputs": [
    {
     "data": {
      "text/plain": [
       "'iuhiuhdfubfubu'"
      ]
     },
     "execution_count": 53,
     "metadata": {},
     "output_type": "execute_result"
    }
   ],
   "source": [
    "a"
   ]
  },
  {
   "cell_type": "code",
   "execution_count": 54,
   "id": "84c0c328",
   "metadata": {},
   "outputs": [
    {
     "data": {
      "text/plain": [
       "str"
      ]
     },
     "execution_count": 54,
     "metadata": {},
     "output_type": "execute_result"
    }
   ],
   "source": [
    "type(a)"
   ]
  },
  {
   "cell_type": "code",
   "execution_count": 55,
   "id": "daed4423",
   "metadata": {},
   "outputs": [
    {
     "name": "stdout",
     "output_type": "stream",
     "text": [
      "12jhxbdsbcd\n"
     ]
    }
   ],
   "source": [
    "a=input()\n"
   ]
  },
  {
   "cell_type": "code",
   "execution_count": 56,
   "id": "6c552abb",
   "metadata": {},
   "outputs": [
    {
     "data": {
      "text/plain": [
       "str"
      ]
     },
     "execution_count": 56,
     "metadata": {},
     "output_type": "execute_result"
    }
   ],
   "source": [
    "type(a)"
   ]
  },
  {
   "cell_type": "code",
   "execution_count": 57,
   "id": "40463e78",
   "metadata": {},
   "outputs": [],
   "source": [
    "# take interger input from a user \n",
    "#q1. take a integer input from user a,b,c\n",
    "#a+b/c\n",
    "\n",
    "\n",
    "# concatinate with your name"
   ]
  },
  {
   "cell_type": "code",
   "execution_count": 68,
   "id": "74363cad",
   "metadata": {},
   "outputs": [
    {
     "name": "stdout",
     "output_type": "stream",
     "text": [
      " please enter a integer value of a: 700\n",
      " please enter a integer value of b: 800\n",
      " please enter a integer value of c: 200\n",
      "What is  your name: srinu\n",
      "(52.5+65j) srinu\n"
     ]
    }
   ],
   "source": [
    "a=int(input(\" please enter a integer value of a: \"))\n",
    "b=int(input(\" please enter a integer value of b: \"))\n",
    "c=int(input(\" please enter a integer value of c: \"))\n",
    "d=(a+b)/c\n",
    "d1=d+45+65j\n",
    "user_input=input(\"What is  your name: \")\n",
    "print(str(d1)+\" \"+user_input)\n"
   ]
  },
  {
   "cell_type": "code",
   "execution_count": null,
   "id": "33c15d1b",
   "metadata": {},
   "outputs": [],
   "source": [
    "a=int(input(\"input  a number which is less than 34\") )\n",
    "if a<=34:\n",
    "    print(\"ok your number is less than 34:\")\n",
    "else:\n",
    "     print(\"your number is greater than 34:\")\n",
    "print(a)\n",
    "    "
   ]
  },
  {
   "cell_type": "code",
   "execution_count": null,
   "id": "6241a199",
   "metadata": {},
   "outputs": [],
   "source": [
    "a=int(input(\"input  a number which is less than 34\") )\n",
    "if a<34:\n",
    "    print(\"data input is lesser than 34\")\n",
    "    \n",
    "    "
   ]
  },
  {
   "cell_type": "code",
   "execution_count": null,
   "id": "8f0e7b39",
   "metadata": {},
   "outputs": [],
   "source": [
    "a=int(input(\"input  a number which is less than 34\") )\n",
    "if a<34:\n",
    "    print(\"data input is lesser than 34\")"
   ]
  },
  {
   "cell_type": "code",
   "execution_count": 3,
   "id": "221e64f3",
   "metadata": {},
   "outputs": [
    {
     "name": "stdout",
     "output_type": "stream",
     "text": [
      "input  a number which is less than 34: 56\n",
      "data is greater than 34\n"
     ]
    }
   ],
   "source": [
    "a=int(input(\"input  a number which is less than 34: \") )\n",
    "if a<34:\n",
    "    print(\"data input is lesser than 34\")\n",
    "else:\n",
    "        print(\"data is greater than 34\")"
   ]
  },
  {
   "cell_type": "code",
   "execution_count": 4,
   "id": "915b869c",
   "metadata": {},
   "outputs": [],
   "source": [
    "# aalways maintain indentation"
   ]
  },
  {
   "cell_type": "code",
   "execution_count": 7,
   "id": "50f72008",
   "metadata": {},
   "outputs": [
    {
     "name": "stdout",
     "output_type": "stream",
     "text": [
      "Enter your salary15000\n",
      "buy a good car\n"
     ]
    }
   ],
   "source": [
    "salary=int(input(\"Enter your salary\"))\n",
    "if salary<=10000:\n",
    "    print(\"buy a bike\")\n",
    "elif salary <=50000:\n",
    "    print(\"buy a good car\")\n",
    "else:\n",
    "    print(\"buy a benz\")"
   ]
  },
  {
   "cell_type": "markdown",
   "id": "a5ad0a45",
   "metadata": {},
   "source": [
    "# listed statement"
   ]
  },
  {
   "cell_type": "code",
   "execution_count": 11,
   "id": "d02628ad",
   "metadata": {},
   "outputs": [
    {
     "name": "stdout",
     "output_type": "stream",
     "text": [
      "enter your salary6500.356\n",
      "your salary is good\n",
      "i will go with car nano\n"
     ]
    }
   ],
   "source": [
    "salary=eval(input(\"enter your salary\"))\n",
    "if salary>1000:\n",
    "    print(\"your salary is good\")\n",
    "    if salary >5000:\n",
    "        print(\"i will go with car nano\")\n",
    "    elif salary>10000:\n",
    "        print(\"i will go with maruti\")\n",
    "    elif salary >50000:\n",
    "        print(\"i will go with toyota\")\n",
    "    \n",
    "else:\n",
    "    print(\" i will go with savings\")"
   ]
  },
  {
   "cell_type": "markdown",
   "id": "8e3ef8e6",
   "metadata": {},
   "source": [
    "#conditionals and loops "
   ]
  },
  {
   "cell_type": "markdown",
   "id": "397f84f7",
   "metadata": {},
   "source": [
    "# condtional and loops"
   ]
  },
  {
   "cell_type": "code",
   "execution_count": null,
   "id": "48f95fc2",
   "metadata": {},
   "outputs": [],
   "source": []
  }
 ],
 "metadata": {
  "kernelspec": {
   "display_name": "Python 3 (ipykernel)",
   "language": "python",
   "name": "python3"
  },
  "language_info": {
   "codemirror_mode": {
    "name": "ipython",
    "version": 3
   },
   "file_extension": ".py",
   "mimetype": "text/x-python",
   "name": "python",
   "nbconvert_exporter": "python",
   "pygments_lexer": "ipython3",
   "version": "3.9.7"
  }
 },
 "nbformat": 4,
 "nbformat_minor": 5
}
